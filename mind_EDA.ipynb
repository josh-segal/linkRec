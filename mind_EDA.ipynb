{
 "cells": [
  {
   "cell_type": "code",
   "execution_count": 27,
   "metadata": {},
   "outputs": [],
   "source": [
    "import pandas as pd\n",
    "import numpy as np\n",
    "from sklearn.model_selection import train_test_split, learning_curve\n",
    "from sklearn.preprocessing import LabelEncoder, StandardScaler\n",
    "from sklearn.linear_model import LogisticRegression\n",
    "from datetime import datetime\n",
    "from sklearn.metrics import accuracy_score, precision_score, recall_score, f1_score, roc_curve, precision_recall_curve\n",
    "import matplotlib.pyplot as plt\n",
    "import seaborn as sns"
   ]
  },
  {
   "cell_type": "code",
   "execution_count": 28,
   "metadata": {},
   "outputs": [],
   "source": [
    "# Read news and behaviors data\n",
    "col_news = ['NewsId', 'Category', 'SubCat', 'Title', 'Abstract', 'url', 'TitleEnt', 'AbstractEnt']\n",
    "news_df = pd.read_csv('MINDsmall_train/news.tsv', sep='\\t', header=None, names=col_news)\n",
    "# news_df = news_df.sample(frac=0.1, random_state=42)\n",
    "# Read behaviors data\n",
    "col_behaviors = ['ImpressionID', 'UserID', 'Time', 'History', 'Impressions']\n",
    "behaviors_df = pd.read_csv('MINDsmall_train/behaviors.tsv', sep='\\t', header=None, names=col_behaviors)\n",
    "behaviors_df = behaviors_df.sample(frac=0.01, random_state=42)"
   ]
  },
  {
   "cell_type": "code",
   "execution_count": 29,
   "metadata": {},
   "outputs": [
    {
     "data": {
      "text/html": [
       "<div>\n",
       "<style scoped>\n",
       "    .dataframe tbody tr th:only-of-type {\n",
       "        vertical-align: middle;\n",
       "    }\n",
       "\n",
       "    .dataframe tbody tr th {\n",
       "        vertical-align: top;\n",
       "    }\n",
       "\n",
       "    .dataframe thead th {\n",
       "        text-align: right;\n",
       "    }\n",
       "</style>\n",
       "<table border=\"1\" class=\"dataframe\">\n",
       "  <thead>\n",
       "    <tr style=\"text-align: right;\">\n",
       "      <th></th>\n",
       "      <th>NewsId</th>\n",
       "      <th>Category</th>\n",
       "      <th>SubCat</th>\n",
       "      <th>Title</th>\n",
       "      <th>Abstract</th>\n",
       "      <th>url</th>\n",
       "      <th>TitleEnt</th>\n",
       "      <th>AbstractEnt</th>\n",
       "    </tr>\n",
       "  </thead>\n",
       "  <tbody>\n",
       "    <tr>\n",
       "      <th>0</th>\n",
       "      <td>N55528</td>\n",
       "      <td>lifestyle</td>\n",
       "      <td>lifestyleroyals</td>\n",
       "      <td>The Brands Queen Elizabeth, Prince Charles, an...</td>\n",
       "      <td>Shop the notebooks, jackets, and more that the...</td>\n",
       "      <td>https://assets.msn.com/labs/mind/AAGH0ET.html</td>\n",
       "      <td>[{\"Label\": \"Prince Philip, Duke of Edinburgh\",...</td>\n",
       "      <td>[]</td>\n",
       "    </tr>\n",
       "    <tr>\n",
       "      <th>1</th>\n",
       "      <td>N19639</td>\n",
       "      <td>health</td>\n",
       "      <td>weightloss</td>\n",
       "      <td>50 Worst Habits For Belly Fat</td>\n",
       "      <td>These seemingly harmless habits are holding yo...</td>\n",
       "      <td>https://assets.msn.com/labs/mind/AAB19MK.html</td>\n",
       "      <td>[{\"Label\": \"Adipose tissue\", \"Type\": \"C\", \"Wik...</td>\n",
       "      <td>[{\"Label\": \"Adipose tissue\", \"Type\": \"C\", \"Wik...</td>\n",
       "    </tr>\n",
       "    <tr>\n",
       "      <th>2</th>\n",
       "      <td>N61837</td>\n",
       "      <td>news</td>\n",
       "      <td>newsworld</td>\n",
       "      <td>The Cost of Trump's Aid Freeze in the Trenches...</td>\n",
       "      <td>Lt. Ivan Molchanets peeked over a parapet of s...</td>\n",
       "      <td>https://assets.msn.com/labs/mind/AAJgNsz.html</td>\n",
       "      <td>[]</td>\n",
       "      <td>[{\"Label\": \"Ukraine\", \"Type\": \"G\", \"WikidataId...</td>\n",
       "    </tr>\n",
       "    <tr>\n",
       "      <th>3</th>\n",
       "      <td>N53526</td>\n",
       "      <td>health</td>\n",
       "      <td>voices</td>\n",
       "      <td>I Was An NBA Wife. Here's How It Affected My M...</td>\n",
       "      <td>I felt like I was a fraud, and being an NBA wi...</td>\n",
       "      <td>https://assets.msn.com/labs/mind/AACk2N6.html</td>\n",
       "      <td>[]</td>\n",
       "      <td>[{\"Label\": \"National Basketball Association\", ...</td>\n",
       "    </tr>\n",
       "    <tr>\n",
       "      <th>4</th>\n",
       "      <td>N38324</td>\n",
       "      <td>health</td>\n",
       "      <td>medical</td>\n",
       "      <td>How to Get Rid of Skin Tags, According to a De...</td>\n",
       "      <td>They seem harmless, but there's a very good re...</td>\n",
       "      <td>https://assets.msn.com/labs/mind/AAAKEkt.html</td>\n",
       "      <td>[{\"Label\": \"Skin tag\", \"Type\": \"C\", \"WikidataI...</td>\n",
       "      <td>[{\"Label\": \"Skin tag\", \"Type\": \"C\", \"WikidataI...</td>\n",
       "    </tr>\n",
       "  </tbody>\n",
       "</table>\n",
       "</div>"
      ],
      "text/plain": [
       "   NewsId   Category           SubCat  \\\n",
       "0  N55528  lifestyle  lifestyleroyals   \n",
       "1  N19639     health       weightloss   \n",
       "2  N61837       news        newsworld   \n",
       "3  N53526     health           voices   \n",
       "4  N38324     health          medical   \n",
       "\n",
       "                                               Title  \\\n",
       "0  The Brands Queen Elizabeth, Prince Charles, an...   \n",
       "1                      50 Worst Habits For Belly Fat   \n",
       "2  The Cost of Trump's Aid Freeze in the Trenches...   \n",
       "3  I Was An NBA Wife. Here's How It Affected My M...   \n",
       "4  How to Get Rid of Skin Tags, According to a De...   \n",
       "\n",
       "                                            Abstract  \\\n",
       "0  Shop the notebooks, jackets, and more that the...   \n",
       "1  These seemingly harmless habits are holding yo...   \n",
       "2  Lt. Ivan Molchanets peeked over a parapet of s...   \n",
       "3  I felt like I was a fraud, and being an NBA wi...   \n",
       "4  They seem harmless, but there's a very good re...   \n",
       "\n",
       "                                             url  \\\n",
       "0  https://assets.msn.com/labs/mind/AAGH0ET.html   \n",
       "1  https://assets.msn.com/labs/mind/AAB19MK.html   \n",
       "2  https://assets.msn.com/labs/mind/AAJgNsz.html   \n",
       "3  https://assets.msn.com/labs/mind/AACk2N6.html   \n",
       "4  https://assets.msn.com/labs/mind/AAAKEkt.html   \n",
       "\n",
       "                                            TitleEnt  \\\n",
       "0  [{\"Label\": \"Prince Philip, Duke of Edinburgh\",...   \n",
       "1  [{\"Label\": \"Adipose tissue\", \"Type\": \"C\", \"Wik...   \n",
       "2                                                 []   \n",
       "3                                                 []   \n",
       "4  [{\"Label\": \"Skin tag\", \"Type\": \"C\", \"WikidataI...   \n",
       "\n",
       "                                         AbstractEnt  \n",
       "0                                                 []  \n",
       "1  [{\"Label\": \"Adipose tissue\", \"Type\": \"C\", \"Wik...  \n",
       "2  [{\"Label\": \"Ukraine\", \"Type\": \"G\", \"WikidataId...  \n",
       "3  [{\"Label\": \"National Basketball Association\", ...  \n",
       "4  [{\"Label\": \"Skin tag\", \"Type\": \"C\", \"WikidataI...  "
      ]
     },
     "execution_count": 29,
     "metadata": {},
     "output_type": "execute_result"
    }
   ],
   "source": [
    "news_df.head()"
   ]
  },
  {
   "cell_type": "code",
   "execution_count": 30,
   "metadata": {},
   "outputs": [
    {
     "data": {
      "text/plain": [
       "(51282, 8)"
      ]
     },
     "execution_count": 30,
     "metadata": {},
     "output_type": "execute_result"
    }
   ],
   "source": [
    "news_df.shape"
   ]
  },
  {
   "cell_type": "code",
   "execution_count": 31,
   "metadata": {},
   "outputs": [
    {
     "data": {
      "text/html": [
       "<div>\n",
       "<style scoped>\n",
       "    .dataframe tbody tr th:only-of-type {\n",
       "        vertical-align: middle;\n",
       "    }\n",
       "\n",
       "    .dataframe tbody tr th {\n",
       "        vertical-align: top;\n",
       "    }\n",
       "\n",
       "    .dataframe thead th {\n",
       "        text-align: right;\n",
       "    }\n",
       "</style>\n",
       "<table border=\"1\" class=\"dataframe\">\n",
       "  <thead>\n",
       "    <tr style=\"text-align: right;\">\n",
       "      <th></th>\n",
       "      <th>ImpressionID</th>\n",
       "      <th>UserID</th>\n",
       "      <th>Time</th>\n",
       "      <th>History</th>\n",
       "      <th>Impressions</th>\n",
       "    </tr>\n",
       "  </thead>\n",
       "  <tbody>\n",
       "    <tr>\n",
       "      <th>78833</th>\n",
       "      <td>78834</td>\n",
       "      <td>U46778</td>\n",
       "      <td>11/12/2019 6:57:31 PM</td>\n",
       "      <td>N17157 N28081 N58641 N3926 N16290 N11894 N6185...</td>\n",
       "      <td>N60456-0 N19592-0 N35738-1 N3123-0 N12029-0 N3...</td>\n",
       "    </tr>\n",
       "    <tr>\n",
       "      <th>119940</th>\n",
       "      <td>119941</td>\n",
       "      <td>U19033</td>\n",
       "      <td>11/14/2019 12:43:30 PM</td>\n",
       "      <td>N1150 N53234 N45794 N11005 N55556</td>\n",
       "      <td>N50872-0 N19536-1</td>\n",
       "    </tr>\n",
       "    <tr>\n",
       "      <th>105873</th>\n",
       "      <td>105874</td>\n",
       "      <td>U30</td>\n",
       "      <td>11/9/2019 8:40:24 AM</td>\n",
       "      <td>N58642 N65000 N871 N24778 N11101 N9798 N54827 ...</td>\n",
       "      <td>N5889-0 N63583-1 N56396-0 N37190-0 N5957-0 N73...</td>\n",
       "    </tr>\n",
       "    <tr>\n",
       "      <th>36249</th>\n",
       "      <td>36250</td>\n",
       "      <td>U76070</td>\n",
       "      <td>11/10/2019 9:16:45 PM</td>\n",
       "      <td>N61864 N42946 N18693 N62703 N41792 N57888 N236...</td>\n",
       "      <td>N33981-0 N17104-1 N35388-0 N47933-0 N53907-0 N...</td>\n",
       "    </tr>\n",
       "    <tr>\n",
       "      <th>81978</th>\n",
       "      <td>81979</td>\n",
       "      <td>U54617</td>\n",
       "      <td>11/11/2019 8:16:50 PM</td>\n",
       "      <td>N24002 N13427 N36517 N33713 N19152 N31127 N167...</td>\n",
       "      <td>N2350-0 N44422-0 N23174-0 N25722-0 N55204-0 N7...</td>\n",
       "    </tr>\n",
       "  </tbody>\n",
       "</table>\n",
       "</div>"
      ],
      "text/plain": [
       "        ImpressionID  UserID                    Time  \\\n",
       "78833          78834  U46778   11/12/2019 6:57:31 PM   \n",
       "119940        119941  U19033  11/14/2019 12:43:30 PM   \n",
       "105873        105874     U30    11/9/2019 8:40:24 AM   \n",
       "36249          36250  U76070   11/10/2019 9:16:45 PM   \n",
       "81978          81979  U54617   11/11/2019 8:16:50 PM   \n",
       "\n",
       "                                                  History  \\\n",
       "78833   N17157 N28081 N58641 N3926 N16290 N11894 N6185...   \n",
       "119940                  N1150 N53234 N45794 N11005 N55556   \n",
       "105873  N58642 N65000 N871 N24778 N11101 N9798 N54827 ...   \n",
       "36249   N61864 N42946 N18693 N62703 N41792 N57888 N236...   \n",
       "81978   N24002 N13427 N36517 N33713 N19152 N31127 N167...   \n",
       "\n",
       "                                              Impressions  \n",
       "78833   N60456-0 N19592-0 N35738-1 N3123-0 N12029-0 N3...  \n",
       "119940                                  N50872-0 N19536-1  \n",
       "105873  N5889-0 N63583-1 N56396-0 N37190-0 N5957-0 N73...  \n",
       "36249   N33981-0 N17104-1 N35388-0 N47933-0 N53907-0 N...  \n",
       "81978   N2350-0 N44422-0 N23174-0 N25722-0 N55204-0 N7...  "
      ]
     },
     "execution_count": 31,
     "metadata": {},
     "output_type": "execute_result"
    }
   ],
   "source": [
    "behaviors_df.head()"
   ]
  },
  {
   "cell_type": "code",
   "execution_count": 32,
   "metadata": {},
   "outputs": [
    {
     "data": {
      "text/plain": [
       "(1570, 5)"
      ]
     },
     "execution_count": 32,
     "metadata": {},
     "output_type": "execute_result"
    }
   ],
   "source": [
    "behaviors_df.shape"
   ]
  },
  {
   "cell_type": "code",
   "execution_count": 33,
   "metadata": {},
   "outputs": [],
   "source": [
    "def process_impressions(behaviors_df, news_df):\n",
    "    \"\"\"Convert behaviors data into user-news interaction pairs\"\"\"\n",
    "    interactions = []\n",
    "    \n",
    "    for _, row in behaviors_df.iterrows():\n",
    "        user_id = row['UserID']\n",
    "        history = row['History'].split() if pd.notna(row['History']) else []\n",
    "        \n",
    "        # Process each impression\n",
    "        for impression in row['Impressions'].split():\n",
    "            news_id, click = impression.split('-')\n",
    "            \n",
    "            # Only include if news exists in news_df\n",
    "            if news_id in news_df['NewsId'].values:\n",
    "                interactions.append({\n",
    "                    'user_id': user_id,\n",
    "                    'news_id': news_id,\n",
    "                    'click': int(click),\n",
    "                    'history_len': len(history),\n",
    "                    'time': row['Time']\n",
    "                })\n",
    "\n",
    "    # Convert interactions list to DataFrame\n",
    "    interactions_df = pd.DataFrame(interactions)\n",
    "    \n",
    "    # Separate clicks and no-clicks\n",
    "    clicks = interactions_df[interactions_df['click'] == 1]\n",
    "    no_clicks = interactions_df[interactions_df['click'] == 0]\n",
    "    \n",
    "    # Downsample no_clicks to match clicks size\n",
    "    no_clicks_downsampled = no_clicks.sample(n=len(clicks), random_state=42)\n",
    "    \n",
    "    # Combine back\n",
    "    balanced_df = pd.concat([clicks, no_clicks_downsampled])\n",
    "    \n",
    "    print(f\"Original size: {len(interactions_df)}, Balanced size: {len(balanced_df)}\")\n",
    "    print(\"Class distribution after balancing:\")\n",
    "    print(balanced_df['click'].value_counts())\n",
    "    \n",
    "    return balanced_df\n",
    "\n",
    "def extract_time_features(time_str):\n",
    "    \"\"\"Extract time-based features from timestamp\"\"\"\n",
    "    time = datetime.strptime(time_str, '%m/%d/%Y %I:%M:%S %p')\n",
    "    return {\n",
    "        'hour': time.hour,\n",
    "        'day_of_week': time.weekday(),\n",
    "        'is_weekend': 1 if time.weekday() >= 5 else 0\n",
    "    }\n",
    "\n",
    "def prepare_features(interactions_df, news_df):\n",
    "    \"\"\"Prepare features for training\"\"\"\n",
    "    # Encode categorical features\n",
    "    le_category = LabelEncoder()\n",
    "    le_subcategory = LabelEncoder()\n",
    "    \n",
    "    news_df['category_encoded'] = le_category.fit_transform(news_df['Category'])\n",
    "    news_df['subcategory_encoded'] = le_subcategory.fit_transform(news_df['SubCat'])\n",
    "    \n",
    "    # Merge news features with interactions\n",
    "    features_df = interactions_df.merge(\n",
    "        news_df[['NewsId', 'category_encoded', 'subcategory_encoded']], \n",
    "        left_on='news_id', \n",
    "        right_on='NewsId'\n",
    "    )\n",
    "    \n",
    "    # Add time features\n",
    "    time_features = features_df['time'].apply(extract_time_features).apply(pd.Series)\n",
    "    features_df = pd.concat([features_df, time_features], axis=1)\n",
    "    \n",
    "    return features_df"
   ]
  },
  {
   "cell_type": "code",
   "execution_count": 34,
   "metadata": {},
   "outputs": [
    {
     "name": "stdout",
     "output_type": "stream",
     "text": [
      "Original size: 58161, Balanced size: 4830\n",
      "Class distribution after balancing:\n",
      "click\n",
      "1    2415\n",
      "0    2415\n",
      "Name: count, dtype: int64\n"
     ]
    },
    {
     "data": {
      "text/html": [
       "<div>\n",
       "<style scoped>\n",
       "    .dataframe tbody tr th:only-of-type {\n",
       "        vertical-align: middle;\n",
       "    }\n",
       "\n",
       "    .dataframe tbody tr th {\n",
       "        vertical-align: top;\n",
       "    }\n",
       "\n",
       "    .dataframe thead th {\n",
       "        text-align: right;\n",
       "    }\n",
       "</style>\n",
       "<table border=\"1\" class=\"dataframe\">\n",
       "  <thead>\n",
       "    <tr style=\"text-align: right;\">\n",
       "      <th></th>\n",
       "      <th>user_id</th>\n",
       "      <th>news_id</th>\n",
       "      <th>click</th>\n",
       "      <th>history_len</th>\n",
       "      <th>time</th>\n",
       "    </tr>\n",
       "  </thead>\n",
       "  <tbody>\n",
       "    <tr>\n",
       "      <th>2</th>\n",
       "      <td>U46778</td>\n",
       "      <td>N35738</td>\n",
       "      <td>1</td>\n",
       "      <td>43</td>\n",
       "      <td>11/12/2019 6:57:31 PM</td>\n",
       "    </tr>\n",
       "    <tr>\n",
       "      <th>11</th>\n",
       "      <td>U19033</td>\n",
       "      <td>N19536</td>\n",
       "      <td>1</td>\n",
       "      <td>5</td>\n",
       "      <td>11/14/2019 12:43:30 PM</td>\n",
       "    </tr>\n",
       "    <tr>\n",
       "      <th>13</th>\n",
       "      <td>U30</td>\n",
       "      <td>N63583</td>\n",
       "      <td>1</td>\n",
       "      <td>9</td>\n",
       "      <td>11/9/2019 8:40:24 AM</td>\n",
       "    </tr>\n",
       "    <tr>\n",
       "      <th>50</th>\n",
       "      <td>U76070</td>\n",
       "      <td>N17104</td>\n",
       "      <td>1</td>\n",
       "      <td>17</td>\n",
       "      <td>11/10/2019 9:16:45 PM</td>\n",
       "    </tr>\n",
       "    <tr>\n",
       "      <th>90</th>\n",
       "      <td>U54617</td>\n",
       "      <td>N57535</td>\n",
       "      <td>1</td>\n",
       "      <td>11</td>\n",
       "      <td>11/11/2019 8:16:50 PM</td>\n",
       "    </tr>\n",
       "  </tbody>\n",
       "</table>\n",
       "</div>"
      ],
      "text/plain": [
       "   user_id news_id  click  history_len                    time\n",
       "2   U46778  N35738      1           43   11/12/2019 6:57:31 PM\n",
       "11  U19033  N19536      1            5  11/14/2019 12:43:30 PM\n",
       "13     U30  N63583      1            9    11/9/2019 8:40:24 AM\n",
       "50  U76070  N17104      1           17   11/10/2019 9:16:45 PM\n",
       "90  U54617  N57535      1           11   11/11/2019 8:16:50 PM"
      ]
     },
     "execution_count": 34,
     "metadata": {},
     "output_type": "execute_result"
    }
   ],
   "source": [
    "interactions_df = process_impressions(behaviors_df, news_df)\n",
    "interactions_df.head()\n"
   ]
  },
  {
   "cell_type": "code",
   "execution_count": 35,
   "metadata": {},
   "outputs": [
    {
     "data": {
      "text/plain": [
       "(4830, 5)"
      ]
     },
     "execution_count": 35,
     "metadata": {},
     "output_type": "execute_result"
    }
   ],
   "source": [
    "interactions_df.shape"
   ]
  },
  {
   "cell_type": "code",
   "execution_count": 36,
   "metadata": {},
   "outputs": [
    {
     "data": {
      "text/html": [
       "<div>\n",
       "<style scoped>\n",
       "    .dataframe tbody tr th:only-of-type {\n",
       "        vertical-align: middle;\n",
       "    }\n",
       "\n",
       "    .dataframe tbody tr th {\n",
       "        vertical-align: top;\n",
       "    }\n",
       "\n",
       "    .dataframe thead th {\n",
       "        text-align: right;\n",
       "    }\n",
       "</style>\n",
       "<table border=\"1\" class=\"dataframe\">\n",
       "  <thead>\n",
       "    <tr style=\"text-align: right;\">\n",
       "      <th></th>\n",
       "      <th>user_id</th>\n",
       "      <th>news_id</th>\n",
       "      <th>click</th>\n",
       "      <th>history_len</th>\n",
       "      <th>time</th>\n",
       "      <th>NewsId</th>\n",
       "      <th>category_encoded</th>\n",
       "      <th>subcategory_encoded</th>\n",
       "      <th>hour</th>\n",
       "      <th>day_of_week</th>\n",
       "      <th>is_weekend</th>\n",
       "    </tr>\n",
       "  </thead>\n",
       "  <tbody>\n",
       "    <tr>\n",
       "      <th>0</th>\n",
       "      <td>U46778</td>\n",
       "      <td>N35738</td>\n",
       "      <td>1</td>\n",
       "      <td>43</td>\n",
       "      <td>11/12/2019 6:57:31 PM</td>\n",
       "      <td>N35738</td>\n",
       "      <td>3</td>\n",
       "      <td>94</td>\n",
       "      <td>18</td>\n",
       "      <td>1</td>\n",
       "      <td>0</td>\n",
       "    </tr>\n",
       "    <tr>\n",
       "      <th>1</th>\n",
       "      <td>U50203</td>\n",
       "      <td>N35738</td>\n",
       "      <td>1</td>\n",
       "      <td>16</td>\n",
       "      <td>11/12/2019 4:00:37 AM</td>\n",
       "      <td>N35738</td>\n",
       "      <td>3</td>\n",
       "      <td>94</td>\n",
       "      <td>4</td>\n",
       "      <td>1</td>\n",
       "      <td>0</td>\n",
       "    </tr>\n",
       "    <tr>\n",
       "      <th>2</th>\n",
       "      <td>U92576</td>\n",
       "      <td>N35738</td>\n",
       "      <td>0</td>\n",
       "      <td>23</td>\n",
       "      <td>11/12/2019 10:52:25 PM</td>\n",
       "      <td>N35738</td>\n",
       "      <td>3</td>\n",
       "      <td>94</td>\n",
       "      <td>22</td>\n",
       "      <td>1</td>\n",
       "      <td>0</td>\n",
       "    </tr>\n",
       "    <tr>\n",
       "      <th>3</th>\n",
       "      <td>U42526</td>\n",
       "      <td>N35738</td>\n",
       "      <td>0</td>\n",
       "      <td>74</td>\n",
       "      <td>11/11/2019 3:14:49 PM</td>\n",
       "      <td>N35738</td>\n",
       "      <td>3</td>\n",
       "      <td>94</td>\n",
       "      <td>15</td>\n",
       "      <td>0</td>\n",
       "      <td>0</td>\n",
       "    </tr>\n",
       "    <tr>\n",
       "      <th>4</th>\n",
       "      <td>U832</td>\n",
       "      <td>N35738</td>\n",
       "      <td>0</td>\n",
       "      <td>88</td>\n",
       "      <td>11/10/2019 7:15:37 PM</td>\n",
       "      <td>N35738</td>\n",
       "      <td>3</td>\n",
       "      <td>94</td>\n",
       "      <td>19</td>\n",
       "      <td>6</td>\n",
       "      <td>1</td>\n",
       "    </tr>\n",
       "  </tbody>\n",
       "</table>\n",
       "</div>"
      ],
      "text/plain": [
       "  user_id news_id  click  history_len                    time  NewsId  \\\n",
       "0  U46778  N35738      1           43   11/12/2019 6:57:31 PM  N35738   \n",
       "1  U50203  N35738      1           16   11/12/2019 4:00:37 AM  N35738   \n",
       "2  U92576  N35738      0           23  11/12/2019 10:52:25 PM  N35738   \n",
       "3  U42526  N35738      0           74   11/11/2019 3:14:49 PM  N35738   \n",
       "4    U832  N35738      0           88   11/10/2019 7:15:37 PM  N35738   \n",
       "\n",
       "   category_encoded  subcategory_encoded  hour  day_of_week  is_weekend  \n",
       "0                 3                   94    18            1           0  \n",
       "1                 3                   94     4            1           0  \n",
       "2                 3                   94    22            1           0  \n",
       "3                 3                   94    15            0           0  \n",
       "4                 3                   94    19            6           1  "
      ]
     },
     "execution_count": 36,
     "metadata": {},
     "output_type": "execute_result"
    }
   ],
   "source": [
    "features_df = prepare_features(interactions_df, news_df)\n",
    "features_df.head()\n",
    "\n"
   ]
  },
  {
   "cell_type": "code",
   "execution_count": 37,
   "metadata": {},
   "outputs": [
    {
     "data": {
      "text/plain": [
       "(4830, 11)"
      ]
     },
     "execution_count": 37,
     "metadata": {},
     "output_type": "execute_result"
    }
   ],
   "source": [
    "features_df.shape"
   ]
  },
  {
   "cell_type": "code",
   "execution_count": 38,
   "metadata": {},
   "outputs": [],
   "source": [
    "X = features_df[[\n",
    "        'history_len',\n",
    "        'category_encoded',\n",
    "        'subcategory_encoded',\n",
    "        'hour',\n",
    "        'day_of_week',\n",
    "        'is_weekend'\n",
    "    ]]\n",
    "y = features_df['click']"
   ]
  },
  {
   "cell_type": "code",
   "execution_count": 39,
   "metadata": {},
   "outputs": [
    {
     "data": {
      "text/plain": [
       "(4830, 6)"
      ]
     },
     "execution_count": 39,
     "metadata": {},
     "output_type": "execute_result"
    }
   ],
   "source": [
    "X.shape"
   ]
  },
  {
   "cell_type": "code",
   "execution_count": 40,
   "metadata": {},
   "outputs": [
    {
     "data": {
      "text/plain": [
       "(4830,)"
      ]
     },
     "execution_count": 40,
     "metadata": {},
     "output_type": "execute_result"
    }
   ],
   "source": [
    "y.shape"
   ]
  },
  {
   "cell_type": "code",
   "execution_count": 41,
   "metadata": {},
   "outputs": [],
   "source": [
    "X_train, X_test, y_train, y_test = train_test_split(\n",
    "        X, y, test_size=0.2, random_state=42\n",
    "    )"
   ]
  },
  {
   "cell_type": "code",
   "execution_count": 42,
   "metadata": {},
   "outputs": [],
   "source": [
    "scaler = StandardScaler()\n",
    "X_train_scaled = scaler.fit_transform(X_train)\n",
    "X_test_scaled = scaler.transform(X_test)"
   ]
  },
  {
   "cell_type": "code",
   "execution_count": 43,
   "metadata": {},
   "outputs": [
    {
     "data": {
      "text/html": [
       "<style>#sk-container-id-2 {color: black;background-color: white;}#sk-container-id-2 pre{padding: 0;}#sk-container-id-2 div.sk-toggleable {background-color: white;}#sk-container-id-2 label.sk-toggleable__label {cursor: pointer;display: block;width: 100%;margin-bottom: 0;padding: 0.3em;box-sizing: border-box;text-align: center;}#sk-container-id-2 label.sk-toggleable__label-arrow:before {content: \"▸\";float: left;margin-right: 0.25em;color: #696969;}#sk-container-id-2 label.sk-toggleable__label-arrow:hover:before {color: black;}#sk-container-id-2 div.sk-estimator:hover label.sk-toggleable__label-arrow:before {color: black;}#sk-container-id-2 div.sk-toggleable__content {max-height: 0;max-width: 0;overflow: hidden;text-align: left;background-color: #f0f8ff;}#sk-container-id-2 div.sk-toggleable__content pre {margin: 0.2em;color: black;border-radius: 0.25em;background-color: #f0f8ff;}#sk-container-id-2 input.sk-toggleable__control:checked~div.sk-toggleable__content {max-height: 200px;max-width: 100%;overflow: auto;}#sk-container-id-2 input.sk-toggleable__control:checked~label.sk-toggleable__label-arrow:before {content: \"▾\";}#sk-container-id-2 div.sk-estimator input.sk-toggleable__control:checked~label.sk-toggleable__label {background-color: #d4ebff;}#sk-container-id-2 div.sk-label input.sk-toggleable__control:checked~label.sk-toggleable__label {background-color: #d4ebff;}#sk-container-id-2 input.sk-hidden--visually {border: 0;clip: rect(1px 1px 1px 1px);clip: rect(1px, 1px, 1px, 1px);height: 1px;margin: -1px;overflow: hidden;padding: 0;position: absolute;width: 1px;}#sk-container-id-2 div.sk-estimator {font-family: monospace;background-color: #f0f8ff;border: 1px dotted black;border-radius: 0.25em;box-sizing: border-box;margin-bottom: 0.5em;}#sk-container-id-2 div.sk-estimator:hover {background-color: #d4ebff;}#sk-container-id-2 div.sk-parallel-item::after {content: \"\";width: 100%;border-bottom: 1px solid gray;flex-grow: 1;}#sk-container-id-2 div.sk-label:hover label.sk-toggleable__label {background-color: #d4ebff;}#sk-container-id-2 div.sk-serial::before {content: \"\";position: absolute;border-left: 1px solid gray;box-sizing: border-box;top: 0;bottom: 0;left: 50%;z-index: 0;}#sk-container-id-2 div.sk-serial {display: flex;flex-direction: column;align-items: center;background-color: white;padding-right: 0.2em;padding-left: 0.2em;position: relative;}#sk-container-id-2 div.sk-item {position: relative;z-index: 1;}#sk-container-id-2 div.sk-parallel {display: flex;align-items: stretch;justify-content: center;background-color: white;position: relative;}#sk-container-id-2 div.sk-item::before, #sk-container-id-2 div.sk-parallel-item::before {content: \"\";position: absolute;border-left: 1px solid gray;box-sizing: border-box;top: 0;bottom: 0;left: 50%;z-index: -1;}#sk-container-id-2 div.sk-parallel-item {display: flex;flex-direction: column;z-index: 1;position: relative;background-color: white;}#sk-container-id-2 div.sk-parallel-item:first-child::after {align-self: flex-end;width: 50%;}#sk-container-id-2 div.sk-parallel-item:last-child::after {align-self: flex-start;width: 50%;}#sk-container-id-2 div.sk-parallel-item:only-child::after {width: 0;}#sk-container-id-2 div.sk-dashed-wrapped {border: 1px dashed gray;margin: 0 0.4em 0.5em 0.4em;box-sizing: border-box;padding-bottom: 0.4em;background-color: white;}#sk-container-id-2 div.sk-label label {font-family: monospace;font-weight: bold;display: inline-block;line-height: 1.2em;}#sk-container-id-2 div.sk-label-container {text-align: center;}#sk-container-id-2 div.sk-container {/* jupyter's `normalize.less` sets `[hidden] { display: none; }` but bootstrap.min.css set `[hidden] { display: none !important; }` so we also need the `!important` here to be able to override the default hidden behavior on the sphinx rendered scikit-learn.org. See: https://github.com/scikit-learn/scikit-learn/issues/21755 */display: inline-block !important;position: relative;}#sk-container-id-2 div.sk-text-repr-fallback {display: none;}</style><div id=\"sk-container-id-2\" class=\"sk-top-container\"><div class=\"sk-text-repr-fallback\"><pre>LogisticRegression(random_state=42)</pre><b>In a Jupyter environment, please rerun this cell to show the HTML representation or trust the notebook. <br />On GitHub, the HTML representation is unable to render, please try loading this page with nbviewer.org.</b></div><div class=\"sk-container\" hidden><div class=\"sk-item\"><div class=\"sk-estimator sk-toggleable\"><input class=\"sk-toggleable__control sk-hidden--visually\" id=\"sk-estimator-id-2\" type=\"checkbox\" checked><label for=\"sk-estimator-id-2\" class=\"sk-toggleable__label sk-toggleable__label-arrow\">LogisticRegression</label><div class=\"sk-toggleable__content\"><pre>LogisticRegression(random_state=42)</pre></div></div></div></div></div>"
      ],
      "text/plain": [
       "LogisticRegression(random_state=42)"
      ]
     },
     "execution_count": 43,
     "metadata": {},
     "output_type": "execute_result"
    }
   ],
   "source": [
    "model = LogisticRegression(random_state=42)\n",
    "model.fit(X_train_scaled, y_train)"
   ]
  },
  {
   "cell_type": "code",
   "execution_count": 44,
   "metadata": {},
   "outputs": [
    {
     "name": "stdout",
     "output_type": "stream",
     "text": [
      "Model Performance:\n",
      "accuracy: 0.5404\n",
      "precision: 0.5311\n",
      "recall: 0.6067\n",
      "f1: 0.5664\n"
     ]
    }
   ],
   "source": [
    "y_pred = model.predict(X_test_scaled)\n",
    "    \n",
    "results = {\n",
    "    'accuracy': accuracy_score(y_test, y_pred),\n",
    "    'precision': precision_score(y_test, y_pred),\n",
    "    'recall': recall_score(y_test, y_pred),\n",
    "    'f1': f1_score(y_test, y_pred)\n",
    "}\n",
    "\n",
    "print(\"Model Performance:\")\n",
    "for metric, value in results.items():\n",
    "    print(f\"{metric}: {value:.4f}\")"
   ]
  },
  {
   "cell_type": "code",
   "execution_count": null,
   "metadata": {},
   "outputs": [],
   "source": []
  }
 ],
 "metadata": {
  "kernelspec": {
   "display_name": "base",
   "language": "python",
   "name": "python3"
  },
  "language_info": {
   "codemirror_mode": {
    "name": "ipython",
    "version": 3
   },
   "file_extension": ".py",
   "mimetype": "text/x-python",
   "name": "python",
   "nbconvert_exporter": "python",
   "pygments_lexer": "ipython3",
   "version": "3.11.7"
  }
 },
 "nbformat": 4,
 "nbformat_minor": 2
}
