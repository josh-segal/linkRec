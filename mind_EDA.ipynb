{
 "cells": [
  {
   "cell_type": "code",
   "execution_count": null,
   "metadata": {},
   "outputs": [],
   "source": [
    "import pandas as pd\n",
    "import numpy as pd\n",
    "from sklearn.model_selection import train_test_split\n",
    "from sklearn.preprocessing import LabelEncoder, StandardScaler\n",
    "from sklearn.linear_model import LogisticRegression\n",
    "import numpy as np\n",
    "from datetime import datetime\n",
    "\n",
    "# Read news and behaviors data\n",
    "col_news = ['NewsId', 'Category', 'SubCat', 'Title', 'Abstract', 'url', 'TitleEnt', 'AbstractEnt']\n",
    "news_df = pd.read_csv('MINDsmall_train/news.tsv', sep='\\t', header=None, names=col_news)\n",
    "\n",
    "# Read behaviors data\n",
    "col_behaviors = ['ImpressionID', 'UserID', 'Time', 'History', 'Impressions']\n",
    "behaviors_df = pd.read_csv('MINDsmall_train/behaviors.tsv', sep='\\t', header=None, names=col_behaviors)"
   ]
  }
 ],
 "metadata": {
  "kernelspec": {
   "display_name": "Python 3",
   "language": "python",
   "name": "python3"
  },
  "language_info": {
   "name": "python",
   "version": "3.13.2"
  }
 },
 "nbformat": 4,
 "nbformat_minor": 2
}
